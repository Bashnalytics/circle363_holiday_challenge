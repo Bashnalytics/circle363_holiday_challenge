{
  "nbformat": 4,
  "nbformat_minor": 0,
  "metadata": {
    "colab": {
      "provenance": [],
      "authorship_tag": "ABX9TyPssR7sGu2ma8gDIPhNdmhx",
      "include_colab_link": true
    },
    "kernelspec": {
      "name": "python3",
      "display_name": "Python 3"
    },
    "language_info": {
      "name": "python"
    }
  },
  "cells": [
    {
      "cell_type": "markdown",
      "metadata": {
        "id": "view-in-github",
        "colab_type": "text"
      },
      "source": [
        "<a href=\"https://colab.research.google.com/github/Bashnalytics/circle363_holiday_challenge/blob/main/Laptop_Prices_Analysis.ipynb\" target=\"_parent\"><img src=\"https://colab.research.google.com/assets/colab-badge.svg\" alt=\"Open In Colab\"/></a>"
      ]
    },
    {
      "cell_type": "markdown",
      "source": [
        "# **Building Fast Queries: CSV**"
      ],
      "metadata": {
        "id": "RUuAbWqw4E9X"
      }
    },
    {
      "cell_type": "markdown",
      "source": [
        "**Data Exploration**"
      ],
      "metadata": {
        "id": "_7hKrzX74Q5_"
      }
    },
    {
      "cell_type": "code",
      "execution_count": 30,
      "metadata": {
        "colab": {
          "base_uri": "https://localhost:8080/"
        },
        "id": "CgMi36M87U8f",
        "outputId": "f5097d64-2536-4442-9494-90e2065a9a18"
      },
      "outputs": [
        {
          "output_type": "stream",
          "name": "stdout",
          "text": [
            "['laptop_ID', 'Company', 'Product', 'TypeName', 'Inches', 'ScreenResolution', 'Cpu', 'Ram', 'Memory', 'Gpu', 'OpSys', 'Weight', 'Price_euros']\n",
            "[[1, 'Apple', 'MacBook Pro', 'Ultrabook', 13.3, 'IPS Panel Retina Display 2560x1600', 'Intel Core i5 2.3GHz', '8GB', '128GB SSD', 'Intel Iris Plus Graphics 640', 'macOS', '1.37kg', 1339.69], [2, 'Apple', 'Macbook Air', 'Ultrabook', 13.3, '1440x900', 'Intel Core i5 1.8GHz', '8GB', '128GB Flash Storage', 'Intel HD Graphics 6000', 'macOS', '1.34kg', 898.94], [3, 'HP', '250 G6', 'Notebook', 15.6, 'Full HD 1920x1080', 'Intel Core i5 7200U 2.5GHz', '8GB', '256GB SSD', 'Intel HD Graphics 620', 'No OS', '1.86kg', 575.0], [4, 'Apple', 'MacBook Pro', 'Ultrabook', 15.4, 'IPS Panel Retina Display 2880x1800', 'Intel Core i7 2.7GHz', '16GB', '512GB SSD', 'AMD Radeon Pro 455', 'macOS', '1.83kg', 2537.45], [5, 'Apple', 'MacBook Pro', 'Ultrabook', 13.3, 'IPS Panel Retina Display 2560x1600', 'Intel Core i5 3.1GHz', '8GB', '256GB SSD', 'Intel Iris Plus Graphics 650', 'macOS', '1.37kg', 1803.6]]\n",
            "1303\n"
          ]
        }
      ],
      "source": [
        "import csv\n",
        "import pandas as pd\n",
        "df = pd.read_csv(\"/content/laptop_price.csv\", encoding='latin-1') \n",
        "header = list(df)\n",
        "rows = df.values.tolist()\n",
        "print(header)\n",
        "print(rows[:5])\n",
        "print(len(rows))"
      ]
    },
    {
      "cell_type": "markdown",
      "source": [
        "**Creating an Inventory Class**"
      ],
      "metadata": {
        "id": "YHDZi9fs4YHG"
      }
    },
    {
      "cell_type": "code",
      "source": [
        "class Inventory():\n",
        "  def __init__(self): \n",
        "    df = pd.read_csv(\"/content/laptop_price.csv\", encoding='latin-1') \n",
        "    self.header = list(df)\n",
        "    self.rows = df.values.tolist()\n",
        "    for row in self.rows:\n",
        "      row[-1] = int(row[-1])\n",
        "\n",
        "inventory = Inventory()\n",
        "print(inventory.header)\n",
        "print(len(inventory.rows))            "
      ],
      "metadata": {
        "colab": {
          "base_uri": "https://localhost:8080/"
        },
        "id": "U6ueMbRzBb1w",
        "outputId": "2f3716e1-3043-4bbe-a4cf-9bcb872d5902"
      },
      "execution_count": 31,
      "outputs": [
        {
          "output_type": "stream",
          "name": "stdout",
          "text": [
            "['laptop_ID', 'Company', 'Product', 'TypeName', 'Inches', 'ScreenResolution', 'Cpu', 'Ram', 'Memory', 'Gpu', 'OpSys', 'Weight', 'Price_euros']\n",
            "1303\n"
          ]
        }
      ]
    },
    {
      "cell_type": "markdown",
      "source": [
        "**Finding a Laptop using the ID**"
      ],
      "metadata": {
        "id": "-u3ZgklPsQPI"
      }
    },
    {
      "cell_type": "code",
      "source": [
        "class Inventory():\n",
        "  def __init__(self): \n",
        "    df = pd.read_csv(\"/content/laptop_price.csv\", encoding='latin-1') \n",
        "    self.header = list(df)\n",
        "    self.rows = df.values.tolist()\n",
        "    for row in self.rows:\n",
        "      row[-1] = int(row[-1])\n",
        "\n",
        "  def get_laptop_from_id(self, laptop_id):\n",
        "    for row in self.rows:\n",
        "      if row[0] == laptop_id:\n",
        "        return row\n",
        "        return None                            "
      ],
      "metadata": {
        "id": "zJjnY8kpqptO"
      },
      "execution_count": 32,
      "outputs": []
    },
    {
      "cell_type": "code",
      "source": [
        "inventory = Inventory()\n",
        "print(inventory.get_laptop_from_id(131))\n",
        "print(inventory.get_laptop_from_id(1400))"
      ],
      "metadata": {
        "colab": {
          "base_uri": "https://localhost:8080/"
        },
        "id": "sFAvTE-srGe0",
        "outputId": "69faa361-592e-49f1-ce16-31763827730f"
      },
      "execution_count": 33,
      "outputs": [
        {
          "output_type": "stream",
          "name": "stdout",
          "text": [
            "[131, 'Dell', 'Inspiron 5770', 'Notebook', 17.3, 'Full HD 1920x1080', 'Intel Core i7 8550U 1.8GHz', '16GB', '256GB SSD +  2TB HDD', 'AMD Radeon 530', 'Windows 10', '2.8kg', 1396]\n",
            "None\n"
          ]
        }
      ]
    },
    {
      "cell_type": "markdown",
      "source": [
        "**Improving the ID Lookup Query**"
      ],
      "metadata": {
        "id": "y8yQgHrWr9wP"
      }
    },
    {
      "cell_type": "code",
      "source": [
        "class Inventory():\n",
        "  def __init__(self): \n",
        "    df = pd.read_csv(\"/content/laptop_price.csv\", encoding='latin-1') \n",
        "    self.header = list(df)\n",
        "    self.rows = df.values.tolist()\n",
        "    for row in self.rows:\n",
        "      row[-1] = int(row[-1])\n",
        "      self.id_to_row = {}\n",
        "      for row in self.rows:\n",
        "        self.id_to_row[row[0]] = row \n",
        "\n",
        "  def get_laptop_from_id(self, laptop_id):\n",
        "    for row in self.rows:\n",
        "      if row[0] == laptop_id:\n",
        "        return row\n",
        "        return None    \n",
        "\n",
        "  def get_laptop_from_id_fast(self, laptop_id):\n",
        "    if laptop_id in self.id_to_row:\n",
        "      return self.id_to_row[laptop_id]\n",
        "      return None    "
      ],
      "metadata": {
        "id": "6_iuE3mJr7Hw"
      },
      "execution_count": 34,
      "outputs": []
    },
    {
      "cell_type": "code",
      "source": [
        "inventory = Inventory()\n",
        "print(inventory.get_laptop_from_id_fast(131))\n",
        "print(inventory.get_laptop_from_id_fast(1400))"
      ],
      "metadata": {
        "colab": {
          "base_uri": "https://localhost:8080/"
        },
        "id": "mwUXTstBta9Y",
        "outputId": "0d86f7a8-981e-4893-92d3-f4e022e185c1"
      },
      "execution_count": 35,
      "outputs": [
        {
          "output_type": "stream",
          "name": "stdout",
          "text": [
            "[131, 'Dell', 'Inspiron 5770', 'Notebook', 17.3, 'Full HD 1920x1080', 'Intel Core i7 8550U 1.8GHz', '16GB', '256GB SSD +  2TB HDD', 'AMD Radeon 530', 'Windows 10', '2.8kg', 1396]\n",
            "None\n"
          ]
        }
      ]
    },
    {
      "cell_type": "markdown",
      "source": [
        "**Comparing the Performance of the two methods (get_laptop_from_id and get_laptop_from_id_fast)**"
      ],
      "metadata": {
        "id": "1AnpkulduDaL"
      }
    },
    {
      "cell_type": "code",
      "source": [
        "import time\n",
        "import random\n",
        "\n",
        "ids = [str(random.randint(1000000, 9999999)) for _ in range(10000)]\n",
        "\n",
        "inventory = Inventory()\n",
        "\n",
        "total_time_no_dict = 0 \n",
        "for identifier in ids:\n",
        "  start = time.time()\n",
        "  inventory.get_laptop_from_id(identifier)\n",
        "  end = time.time()\n",
        "  total_time_no_dict += end - start \n",
        "\n",
        "total_time_dict = 0 \n",
        "for identifier in ids:\n",
        "  start = time.time()\n",
        "  inventory.get_laptop_from_id_fast(identifier)\n",
        "  end = time.time()\n",
        "  total_time_dict += end - start\n",
        "\n",
        "print(total_time_no_dict)             \n",
        "print(total_time_dict)"
      ],
      "metadata": {
        "colab": {
          "base_uri": "https://localhost:8080/"
        },
        "id": "sG6vzldYuPXG",
        "outputId": "fb50e662-6cda-429c-a694-712fd60aac6f"
      },
      "execution_count": 37,
      "outputs": [
        {
          "output_type": "stream",
          "name": "stdout",
          "text": [
            "1.1169447898864746\n",
            "0.008577108383178711\n"
          ]
        }
      ]
    },
    {
      "cell_type": "markdown",
      "source": [
        "**Interpretation**\n",
        "\n",
        "We can see a significant improvement in the performance of the second method. If we divide 1.116945 by 0.008577, we see that the new method is about 130 times faster for this input size."
      ],
      "metadata": {
        "id": "xH7xP3EKxmpB"
      }
    },
    {
      "cell_type": "markdown",
      "source": [
        "**Two Laptop Promotion**\n",
        "\n",
        "Write a method that finds whether we can spend a given amount of money by purchasing either one or two laptops."
      ],
      "metadata": {
        "id": "GTPLLRAOyTHO"
      }
    },
    {
      "cell_type": "code",
      "source": [
        "class Inventory():\n",
        "  def __init__(self): \n",
        "    df = pd.read_csv(\"/content/laptop_price.csv\", encoding='latin-1') \n",
        "    self.header = list(df)\n",
        "    self.rows = df.values.tolist()\n",
        "    for row in self.rows:\n",
        "      row[-1] = int(row[-1])\n",
        "      self.id_to_row = {}\n",
        "      for row in self.rows:\n",
        "        self.id_to_row[row[0]] = row \n",
        "\n",
        "  def get_laptop_from_id(self, laptop_id):\n",
        "    for row in self.rows:\n",
        "      if row[0] == laptop_id:\n",
        "        return row\n",
        "        return None    \n",
        "\n",
        "  def get_laptop_from_id_fast(self, laptop_id):\n",
        "    if laptop_id in self.id_to_row:\n",
        "      return self.id_to_row[laptop_id]\n",
        "      return None   \n",
        "\n",
        "  def check_promotion_dollars(self, dollars):\n",
        "    for row in self.rows:\n",
        "      if row[-1] == dollars:\n",
        "        return True\n",
        "        for row1 in self.rows:\n",
        "          for row2 in self.rows:\n",
        "            if row1[-1] + row2[-1] == dollars:\n",
        "              return True\n",
        "        return False     "
      ],
      "metadata": {
        "id": "mfdcuM9iyNbi"
      },
      "execution_count": 39,
      "outputs": []
    },
    {
      "cell_type": "code",
      "source": [
        "inventory = Inventory()\n",
        "print(inventory.check_promotion_dollars(1000))\n",
        "print(inventory.check_promotion_dollars(442))"
      ],
      "metadata": {
        "colab": {
          "base_uri": "https://localhost:8080/"
        },
        "id": "YXwQTmA_zjzj",
        "outputId": "348ea388-f462-46e6-8c6f-2c7a1c53596a"
      },
      "execution_count": 41,
      "outputs": [
        {
          "output_type": "stream",
          "name": "stdout",
          "text": [
            "True\n",
            "None\n"
          ]
        }
      ]
    },
    {
      "cell_type": "markdown",
      "source": [
        "Optimizing the Two Laptop Promotion method\n"
      ],
      "metadata": {
        "id": "uHM6SryoxoIm"
      }
    },
    {
      "cell_type": "code",
      "source": [
        "class Inventory():\n",
        "  def __init__(self): \n",
        "    df = pd.read_csv(\"/content/laptop_price.csv\", encoding='latin-1') \n",
        "    self.header = list(df)\n",
        "    self.rows = df.values.tolist()\n",
        "    for row in self.rows:\n",
        "      row[-1] = int(row[-1])\n",
        "    self.id_to_row = {}\n",
        "    for row in self.rows:\n",
        "      self.id_to_row[row[0]] = row \n",
        "    self.prices = set()\n",
        "    for row in self.rows:\n",
        "      self.prices.add(row[-1])\n",
        "\n",
        "  def get_laptop_from_id(self, laptop_id):\n",
        "    for row in self.rows:\n",
        "      if row[0] == laptop_id:\n",
        "        return row\n",
        "        return None    \n",
        "\n",
        "  def get_laptop_from_id_fast(self, laptop_id):\n",
        "    if laptop_id in self.id_to_row:\n",
        "      return self.id_to_row[laptop_id]\n",
        "      return None   \n",
        "\n",
        "  def check_promotion_dollars(self, dollars):\n",
        "    for row in self.rows:\n",
        "      if row[-1] == dollars:\n",
        "        return True\n",
        "        for row1 in self.rows:\n",
        "          for row2 in self.rows:\n",
        "            if row1[-1] + row2[-1] == dollars:\n",
        "              return True\n",
        "        return False   \n",
        "\n",
        "  def check_promotion_dollars_fast(self, dollars):\n",
        "    if dollars in self.prices:\n",
        "      return True\n",
        "      for price in self.prices:\n",
        "        if dollars - price in self.prices:\n",
        "          return True\n",
        "      return False  "
      ],
      "metadata": {
        "id": "sLatWnbLz5rx"
      },
      "execution_count": 42,
      "outputs": []
    },
    {
      "cell_type": "code",
      "source": [
        "inventory = Inventory()\n",
        "print(inventory.check_promotion_dollars_fast(1000))\n",
        "print(inventory.check_promotion_dollars_fast(442))"
      ],
      "metadata": {
        "colab": {
          "base_uri": "https://localhost:8080/"
        },
        "id": "QiAEevFc0jJF",
        "outputId": "aa8761f0-d1c1-47de-9cf0-164517e8873f"
      },
      "execution_count": 43,
      "outputs": [
        {
          "output_type": "stream",
          "name": "stdout",
          "text": [
            "True\n",
            "None\n"
          ]
        }
      ]
    },
    {
      "cell_type": "markdown",
      "source": [
        "**Comparing the Performance of the two methods (check_promotion_dollars and check_promotion_dollars_fast)**"
      ],
      "metadata": {
        "id": "kzFMpwIT02dG"
      }
    },
    {
      "cell_type": "code",
      "source": [
        "prices = [random.randint(100, 5000) for _ in range(100)]\n",
        "\n",
        "inventory = Inventory()  \n",
        "\n",
        "total_time_no_set = 0 \n",
        "for price in prices:\n",
        "  start = time.time()\n",
        "  inventory.check_promotion_dollars(price)\n",
        "  end = time.time()\n",
        "  total_time_no_set += end - start\n",
        "\n",
        "total_time_set = 0\n",
        "for price in prices:\n",
        "  start = time.time()\n",
        "  inventory.check_promotion_dollars_fast(price)\n",
        "  end = time.time()\n",
        "  total_time_set += end - start \n",
        "    \n",
        "print(total_time_no_set)\n",
        "print(total_time_set)"
      ],
      "metadata": {
        "colab": {
          "base_uri": "https://localhost:8080/"
        },
        "id": "sYAgyeVm1EgR",
        "outputId": "9ce14617-9477-40aa-c6fb-2584b2935904"
      },
      "execution_count": 45,
      "outputs": [
        {
          "output_type": "stream",
          "name": "stdout",
          "text": [
            "0.007682323455810547\n",
            "0.00010323524475097656\n"
          ]
        }
      ]
    },
    {
      "cell_type": "markdown",
      "source": [
        "**Interpretation**\n",
        "\n",
        "We can see a significant improvement in the performance of the second method. If we divide 0.007682 by 0.000103, we see that the new method is about 75 times faster for this input size."
      ],
      "metadata": {
        "id": "jnOKg5ex1uoE"
      }
    },
    {
      "cell_type": "markdown",
      "source": [
        "**Finding Laptops Within a Budget**"
      ],
      "metadata": {
        "id": "ykmI8sS02KUu"
      }
    },
    {
      "cell_type": "code",
      "source": [
        "def row_price(row):\n",
        "    return row[-1]\n",
        "class Inventory():\n",
        "  def __init__(self): \n",
        "    df = pd.read_csv(\"/content/laptop_price.csv\", encoding='latin-1') \n",
        "    self.header = list(df)\n",
        "    self.rows = df.values.tolist()\n",
        "    for row in self.rows:\n",
        "      row[-1] = int(row[-1])\n",
        "    self.id_to_row = {}\n",
        "    for row in self.rows:\n",
        "      self.id_to_row[row[0]] = row \n",
        "    self.prices = set()\n",
        "    for row in self.rows:\n",
        "      self.prices.add(row[-1])\n",
        "    self.rows_by_price = sorted(self.rows, key=row_price)\n",
        "\n",
        "  def get_laptop_from_id(self, laptop_id):\n",
        "    for row in self.rows:\n",
        "      if row[0] == laptop_id:\n",
        "        return row\n",
        "        return None    \n",
        "\n",
        "  def get_laptop_from_id_fast(self, laptop_id):\n",
        "    if laptop_id in self.id_to_row:\n",
        "      return self.id_to_row[laptop_id]\n",
        "      return None   \n",
        "\n",
        "  def check_promotion_dollars(self, dollars):\n",
        "    for row in self.rows:\n",
        "      if row[-1] == dollars:\n",
        "        return True\n",
        "        for row1 in self.rows:\n",
        "          for row2 in self.rows:\n",
        "            if row1[-1] + row2[-1] == dollars:\n",
        "              return True\n",
        "        return False   \n",
        "\n",
        "  def check_promotion_dollars_fast(self, dollars):\n",
        "    if dollars in self.prices:\n",
        "      return True\n",
        "      for price in self.prices:\n",
        "        if dollars - price in self.prices:\n",
        "          return True\n",
        "      return False  \n",
        "  def find_laptop_with_price(self, target_price):\n",
        "    range_start = 0                                   \n",
        "    range_end = len(self.rows_by_price) - 1                       \n",
        "    while range_start < range_end:\n",
        "      range_middle = (range_end + range_start) // 2  \n",
        "      value = self.rows_by_price[range_middle][-1]\n",
        "      if value == target_price:\n",
        "        return range_middle                        \n",
        "      elif value < target_price:\n",
        "        range_start = range_middle + 1             \n",
        "      else:                                          \n",
        "        range_end = range_middle - 1\n",
        "    if self.rows_by_price[range_start][-1] != target_price:\n",
        "      return -1                                      \n",
        "    return range_start\n",
        "    \n",
        "  def find_first_laptop_more_expensive(self, target_price):\n",
        "      range_start = 0                                   \n",
        "      range_end = len(self.rows_by_price) - 1                   \n",
        "      while range_start < range_end:\n",
        "        range_middle = (range_end + range_start) // 2  \n",
        "        price = self.rows_by_price[range_middle][-1]\n",
        "        if price > target_price:\n",
        "          range_end = range_middle\n",
        "        else:\n",
        "          range_start = range_middle + 1\n",
        "      if self.rows_by_price[range_start][-1] <= target_price:\n",
        "        return -1                                   \n",
        "      return range_start\n",
        "  "
      ],
      "metadata": {
        "id": "gQ6tMeQ61zZY"
      },
      "execution_count": 51,
      "outputs": []
    },
    {
      "cell_type": "code",
      "source": [
        "inventory = Inventory()\n",
        "print(inventory.find_first_laptop_more_expensive(1000))\n",
        "print(inventory.find_first_laptop_more_expensive(10000))"
      ],
      "metadata": {
        "colab": {
          "base_uri": "https://localhost:8080/"
        },
        "id": "yBjjW4Au3l87",
        "outputId": "8ad403d7-6fdd-4952-f755-9d04f1998ad2"
      },
      "execution_count": 52,
      "outputs": [
        {
          "output_type": "stream",
          "name": "stdout",
          "text": [
            "683\n",
            "-1\n"
          ]
        }
      ]
    }
  ]
}